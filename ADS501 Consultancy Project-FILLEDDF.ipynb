{
 "cells": [
  {
   "cell_type": "markdown",
   "id": "10fe60ee",
   "metadata": {},
   "source": [
    "### Natural Language Processing of Disaster Tweets\n",
    "### Vivian Do\n",
    "### October 23, 2022\n",
    "\n",
    "Note: Original dataframe was modified using Microsoft Excel to delete unrelated tweets and fill in missing keywords "
   ]
  },
  {
   "cell_type": "code",
   "execution_count": 59,
   "id": "aec7fd59",
   "metadata": {},
   "outputs": [],
   "source": [
    "#Import necessary libraries\n",
    "import numpy as np\n",
    "import pandas as pd\n",
    "import seaborn as sns\n",
    "import matplotlib.pyplot as plt\n",
    "import matplotlib as mpl\n",
    "import statsmodels.api as sm\n",
    "import statistics as stats"
   ]
  },
  {
   "cell_type": "code",
   "execution_count": 60,
   "id": "ad4301f9",
   "metadata": {},
   "outputs": [],
   "source": [
    "#Import training and test set\n",
    "train=pd.read_csv(\"tweets_train_filled.csv\")\n",
    "test=pd.read_csv(\"tweets_test.csv\")"
   ]
  },
  {
   "cell_type": "code",
   "execution_count": 61,
   "id": "f5142144",
   "metadata": {},
   "outputs": [
    {
     "name": "stdout",
     "output_type": "stream",
     "text": [
      "Number of rows: 7597\n",
      "Number of columns: 5\n",
      "Number of rows: 3263\n",
      "Number of columns: 4\n"
     ]
    }
   ],
   "source": [
    "#Show dimensions \n",
    "#training\n",
    "print(\"Number of rows:\", train.shape[0])\n",
    "print(\"Number of columns:\", train.shape[1])\n",
    "\n",
    "#test\n",
    "print(\"Number of rows:\", test.shape[0])\n",
    "print(\"Number of columns:\", test.shape[1])"
   ]
  },
  {
   "cell_type": "code",
   "execution_count": 62,
   "id": "c90889a9",
   "metadata": {},
   "outputs": [
    {
     "data": {
      "text/plain": [
       "['id', 'keyword', 'location', 'text', 'target']"
      ]
     },
     "execution_count": 62,
     "metadata": {},
     "output_type": "execute_result"
    }
   ],
   "source": [
    "#Display fields in training set\n",
    "train.columns.values.tolist()"
   ]
  },
  {
   "cell_type": "code",
   "execution_count": 63,
   "id": "36b164c6",
   "metadata": {},
   "outputs": [
    {
     "data": {
      "text/plain": [
       "['id', 'keyword', 'location', 'text']"
      ]
     },
     "execution_count": 63,
     "metadata": {},
     "output_type": "execute_result"
    }
   ],
   "source": [
    "#Display fields in test set\n",
    "test.columns.values.tolist()\n",
    "\n",
    "#'target' field is only in training set. This is what we are predicting for test set"
   ]
  },
  {
   "cell_type": "code",
   "execution_count": 64,
   "id": "109de58b",
   "metadata": {},
   "outputs": [
    {
     "data": {
      "text/plain": [
       "id           int64\n",
       "keyword     object\n",
       "location    object\n",
       "text        object\n",
       "target       int64\n",
       "dtype: object"
      ]
     },
     "execution_count": 64,
     "metadata": {},
     "output_type": "execute_result"
    }
   ],
   "source": [
    "train.dtypes"
   ]
  },
  {
   "cell_type": "code",
   "execution_count": 65,
   "id": "8b5d7aba",
   "metadata": {},
   "outputs": [
    {
     "data": {
      "text/plain": [
       "id           int64\n",
       "keyword     object\n",
       "location    object\n",
       "text        object\n",
       "dtype: object"
      ]
     },
     "execution_count": 65,
     "metadata": {},
     "output_type": "execute_result"
    }
   ],
   "source": [
    "test.dtypes"
   ]
  },
  {
   "cell_type": "code",
   "execution_count": 66,
   "id": "7c7d5d75",
   "metadata": {},
   "outputs": [
    {
     "name": "stdout",
     "output_type": "stream",
     "text": [
      "110\n",
      "20\n"
     ]
    }
   ],
   "source": [
    "#There are 110 duplicated tweets in training set and 20 in the test set. \n",
    "print(train.duplicated(subset=['text']).sum())\n",
    "print(test.duplicated(subset=['text']).sum())"
   ]
  },
  {
   "cell_type": "code",
   "execution_count": 67,
   "id": "212056bb",
   "metadata": {},
   "outputs": [
    {
     "name": "stdout",
     "output_type": "stream",
     "text": [
      "0\n",
      "0\n"
     ]
    }
   ],
   "source": [
    "#Drop duplicated tweets and confirm that they are dropped. \n",
    "#By default, the drop_duplicates() function deletes all duplicates except the first entry (keep=first)\n",
    "#Inplace=True changes source dataframe \n",
    "train.drop_duplicates(subset ='text',\n",
    "                     inplace=True)\n",
    "test.drop_duplicates(subset ='text',\n",
    "                     inplace=True)\n",
    "print(train.duplicated(subset=['text']).sum())\n",
    "print(test.duplicated(subset=['text']).sum())"
   ]
  },
  {
   "cell_type": "code",
   "execution_count": 68,
   "id": "9ad9ca4a",
   "metadata": {},
   "outputs": [
    {
     "name": "stdout",
     "output_type": "stream",
     "text": [
      "Number of rows: 7487\n",
      "Number of columns: 5\n",
      "Number of rows: 3243\n",
      "Number of columns: 4\n"
     ]
    }
   ],
   "source": [
    "#Dimensions after duplicated tweets are deleted. These numbers now match the number of unique tweets. \n",
    "#training\n",
    "print(\"Number of rows:\", train.shape[0])\n",
    "print(\"Number of columns:\", train.shape[1])\n",
    "\n",
    "#test\n",
    "print(\"Number of rows:\", test.shape[0])\n",
    "print(\"Number of columns:\", test.shape[1])"
   ]
  },
  {
   "cell_type": "code",
   "execution_count": 69,
   "id": "e157a781",
   "metadata": {},
   "outputs": [
    {
     "data": {
      "text/plain": [
       "id             0\n",
       "keyword        0\n",
       "location    2466\n",
       "text           0\n",
       "target         0\n",
       "dtype: int64"
      ]
     },
     "execution_count": 69,
     "metadata": {},
     "output_type": "execute_result"
    }
   ],
   "source": [
    "#Show all null values in training set\n",
    "train.isnull().sum()"
   ]
  },
  {
   "cell_type": "code",
   "execution_count": 70,
   "id": "776168e0",
   "metadata": {},
   "outputs": [
    {
     "data": {
      "text/plain": [
       "id             0\n",
       "keyword       26\n",
       "location    1097\n",
       "text           0\n",
       "dtype: int64"
      ]
     },
     "execution_count": 70,
     "metadata": {},
     "output_type": "execute_result"
    }
   ],
   "source": [
    "#Show all null values in test set\n",
    "test.isnull().sum()"
   ]
  },
  {
   "cell_type": "markdown",
   "id": "bfd595d9",
   "metadata": {},
   "source": [
    "There is a significant number of null values for location for both sets (about 33%). Keyword has been manually filled in for training set ONLY"
   ]
  },
  {
   "cell_type": "code",
   "execution_count": 71,
   "id": "9b0f812a",
   "metadata": {
    "scrolled": false
   },
   "outputs": [
    {
     "name": "stdout",
     "output_type": "stream",
     "text": [
      "3327\n",
      "221\n",
      "7487\n",
      "7487\n",
      "1599\n",
      "221\n",
      "3243\n",
      "3243\n"
     ]
    }
   ],
   "source": [
    "#Show number of unique entries for each field\n",
    "print(train['location'].nunique())\n",
    "print(train['keyword'].nunique())\n",
    "print(train['text'].nunique())\n",
    "print(train['id'].nunique())\n",
    "\n",
    "print(test['location'].nunique())\n",
    "print(test['keyword'].nunique())\n",
    "print(test['text'].nunique())\n",
    "print(test['id'].nunique())"
   ]
  },
  {
   "cell_type": "markdown",
   "id": "9cb84306",
   "metadata": {
    "scrolled": true
   },
   "source": [
    "\n"
   ]
  },
  {
   "cell_type": "code",
   "execution_count": 72,
   "id": "94bd2848",
   "metadata": {},
   "outputs": [
    {
     "data": {
      "text/html": [
       "<div>\n",
       "<style scoped>\n",
       "    .dataframe tbody tr th:only-of-type {\n",
       "        vertical-align: middle;\n",
       "    }\n",
       "\n",
       "    .dataframe tbody tr th {\n",
       "        vertical-align: top;\n",
       "    }\n",
       "\n",
       "    .dataframe thead th {\n",
       "        text-align: right;\n",
       "    }\n",
       "</style>\n",
       "<table border=\"1\" class=\"dataframe\">\n",
       "  <thead>\n",
       "    <tr style=\"text-align: right;\">\n",
       "      <th></th>\n",
       "      <th>id</th>\n",
       "      <th>keyword</th>\n",
       "      <th>location</th>\n",
       "      <th>text</th>\n",
       "      <th>target</th>\n",
       "      <th>character_count</th>\n",
       "    </tr>\n",
       "  </thead>\n",
       "  <tbody>\n",
       "    <tr>\n",
       "      <th>0</th>\n",
       "      <td>1</td>\n",
       "      <td>earthquake</td>\n",
       "      <td>NaN</td>\n",
       "      <td>Our Deeds are the Reason of this #earthquake M...</td>\n",
       "      <td>1</td>\n",
       "      <td>69</td>\n",
       "    </tr>\n",
       "    <tr>\n",
       "      <th>1</th>\n",
       "      <td>4</td>\n",
       "      <td>forest%20fire</td>\n",
       "      <td>NaN</td>\n",
       "      <td>Forest fire near La Ronge Sask. Canada</td>\n",
       "      <td>1</td>\n",
       "      <td>38</td>\n",
       "    </tr>\n",
       "    <tr>\n",
       "      <th>2</th>\n",
       "      <td>5</td>\n",
       "      <td>evacuation</td>\n",
       "      <td>NaN</td>\n",
       "      <td>All residents asked to 'shelter in place' are ...</td>\n",
       "      <td>1</td>\n",
       "      <td>133</td>\n",
       "    </tr>\n",
       "    <tr>\n",
       "      <th>3</th>\n",
       "      <td>6</td>\n",
       "      <td>wild%20fires</td>\n",
       "      <td>NaN</td>\n",
       "      <td>13,000 people receive #wildfires evacuation or...</td>\n",
       "      <td>1</td>\n",
       "      <td>65</td>\n",
       "    </tr>\n",
       "    <tr>\n",
       "      <th>4</th>\n",
       "      <td>7</td>\n",
       "      <td>wild%20fires</td>\n",
       "      <td>NaN</td>\n",
       "      <td>Just got sent this photo from Ruby #Alaska as ...</td>\n",
       "      <td>1</td>\n",
       "      <td>88</td>\n",
       "    </tr>\n",
       "  </tbody>\n",
       "</table>\n",
       "</div>"
      ],
      "text/plain": [
       "   id        keyword location  \\\n",
       "0   1     earthquake      NaN   \n",
       "1   4  forest%20fire      NaN   \n",
       "2   5     evacuation      NaN   \n",
       "3   6   wild%20fires      NaN   \n",
       "4   7   wild%20fires      NaN   \n",
       "\n",
       "                                                text  target  character_count  \n",
       "0  Our Deeds are the Reason of this #earthquake M...       1               69  \n",
       "1             Forest fire near La Ronge Sask. Canada       1               38  \n",
       "2  All residents asked to 'shelter in place' are ...       1              133  \n",
       "3  13,000 people receive #wildfires evacuation or...       1               65  \n",
       "4  Just got sent this photo from Ruby #Alaska as ...       1               88  "
      ]
     },
     "execution_count": 72,
     "metadata": {},
     "output_type": "execute_result"
    }
   ],
   "source": [
    "#Add 'character_count' column to display the number of characters used in each tweet\n",
    "train['character_count']=train['text'].str.len()\n",
    "train.head()"
   ]
  },
  {
   "cell_type": "code",
   "execution_count": 112,
   "id": "a0257b11",
   "metadata": {},
   "outputs": [
    {
     "data": {
      "image/png": "[encoded data removed]",
      "text/plain": [
       "<Figure size 720x504 with 1 Axes>"
      ]
     },
     "metadata": {
      "needs_background": "light"
     },
     "output_type": "display_data"
    }
   ],
   "source": [
    "#Frequency of character_counts per tweet\n",
    "fig, ax = plt.subplots(figsize =(10, 7))\n",
    "ax.hist(train['character_count'],bins=20)\n",
    "plt.xlabel(\"Character Count\")\n",
    "plt.ylabel(\"Frequency\")\n",
    "plt.title(\"Character Count per Tweet\")\n",
    "\n",
    "# Show plot\n",
    "plt.show()"
   ]
  },
  {
   "cell_type": "code",
   "execution_count": 113,
   "id": "07f49497",
   "metadata": {},
   "outputs": [
    {
     "data": {
      "text/plain": [
       "Text(0.5, 1.0, 'Distribution of Character Count per Target')"
      ]
     },
     "execution_count": 113,
     "metadata": {},
     "output_type": "execute_result"
    },
    {
     "data": {
      "image/png": "[encoded data removed]",
      "text/plain": [
       "<Figure size 360x360 with 1 Axes>"
      ]
     },
     "metadata": {
      "needs_background": "light"
     },
     "output_type": "display_data"
    }
   ],
   "source": [
    "#Boxplot of distribution of character count for each target\n",
    "sns.catplot(data=train, x=\"target\", y=\"character_count\", kind=\"box\")\n",
    "plt.title(\"Distribution of Character Count per Target\")"
   ]
  },
  {
   "cell_type": "code",
   "execution_count": 110,
   "id": "48f8cfc5",
   "metadata": {},
   "outputs": [
    {
     "name": "stdout",
     "output_type": "stream",
     "text": [
      "       character_count       \n",
      "                  mean median\n",
      "target                       \n",
      "0            95.898578  101.0\n",
      "1           107.982176  114.0\n"
     ]
    }
   ],
   "source": [
    "#Show mean/median character_count for each value of target\n",
    "character_count_per_target=train.groupby('target').agg({'character_count':['mean','median']})\n",
    "print(character_count_per_target)"
   ]
  },
  {
   "cell_type": "code",
   "execution_count": 76,
   "id": "0ab1bd72",
   "metadata": {},
   "outputs": [
    {
     "data": {
      "text/plain": [
       "array(['earthquake', 'forest%20fire', 'evacuation', 'wild%20fires',\n",
       "       'flood', 'fire', 'tornado', 'heat%20wave', 'flooding', 'crash',\n",
       "       'ablaze', 'accident', 'aftershock', 'airplane%20accident',\n",
       "       'ambulance', 'annihilated', 'annihilation', 'apocalypse',\n",
       "       'armageddon', 'army', 'arson', 'arsonist', 'attack', 'attacked',\n",
       "       'avalanche', 'battle', 'bioterror', 'bioterrorism', 'blaze',\n",
       "       'blazing', 'bleeding', 'blew%20up', 'blight', 'blizzard', 'blood',\n",
       "       'bloody', 'blown%20up', 'body%20bag', 'body%20bagging',\n",
       "       'body%20bags', 'bomb', 'bombed', 'bombing', 'bridge%20collapse',\n",
       "       'buildings%20burning', 'buildings%20on%20fire', 'burned',\n",
       "       'burning', 'burning%20buildings', 'bush%20fires', 'casualties',\n",
       "       'casualty', 'catastrophe', 'catastrophic', 'chemical%20emergency',\n",
       "       'cliff%20fall', 'collapse', 'collapsed', 'collide', 'collided',\n",
       "       'collision', 'crashed', 'crush', 'crushed', 'curfew', 'cyclone',\n",
       "       'damage', 'danger', 'dead', 'death', 'deaths', 'debris', 'deluge',\n",
       "       'deluged', 'demolish', 'demolished', 'demolition', 'derail',\n",
       "       'derailed', 'derailment', 'desolate', 'desolation', 'destroy',\n",
       "       'destroyed', 'destruction', 'detonate', 'detonation', 'devastated',\n",
       "       'devastation', 'disaster', 'displaced', 'drought', 'drown',\n",
       "       'drowned', 'drowning', 'dust%20storm', 'electrocute',\n",
       "       'electrocuted', 'emergency', 'emergency%20plan',\n",
       "       'emergency%20services', 'engulfed', 'epicentre', 'evacuate',\n",
       "       'evacuated', 'explode', 'exploded', 'explosion', 'eyewitness',\n",
       "       'famine', 'fatal', 'fatalities', 'fatality', 'fear',\n",
       "       'fire%20truck', 'first%20responders', 'flames', 'flattened',\n",
       "       'floods', 'forest%20fires', 'hail', 'hailstorm', 'harm', 'hazard',\n",
       "       'hazardous', 'hellfire', 'hijack', 'hijacker', 'hijacking',\n",
       "       'hostage', 'hostages', 'hurricane', 'injured', 'injuries',\n",
       "       'injury', 'inundated', 'inundation', 'landslide', 'lava',\n",
       "       'lightning', 'loud%20bang', 'mass%20murder', 'mass%20murderer',\n",
       "       'massacre', 'mayhem', 'meltdown', 'military', 'mudslide',\n",
       "       'natural%20disaster', 'nuclear%20disaster', 'nuclear%20reactor',\n",
       "       'obliterate', 'obliterated', 'obliteration', 'oil%20spill',\n",
       "       'outbreak', 'pandemonium', 'panic', 'panicking', 'police',\n",
       "       'quarantine', 'quarantined', 'radiation%20emergency', 'rainstorm',\n",
       "       'razed', 'refugees', 'rescue', 'rescued', 'rescuers', 'riot',\n",
       "       'rioting', 'rubble', 'ruin', 'sandstorm', 'screamed', 'screaming',\n",
       "       'screams', 'seismic', 'sinkhole', 'sinking', 'siren', 'sirens',\n",
       "       'smoke', 'snowstorm', 'storm', 'stretcher', 'structural%20failure',\n",
       "       'suicide%20bomb', 'suicide%20bomber', 'suicide%20bombing', 'sunk',\n",
       "       'survive', 'survived', 'survivors', 'terrorism', 'terrorist',\n",
       "       'threat', 'thunder', 'thunderstorm', 'tragedy', 'trapped',\n",
       "       'trauma', 'traumatised', 'trouble', 'tsunami', 'twister',\n",
       "       'typhoon', 'upheaval', 'violent%20storm', 'volcano', 'war%20zone',\n",
       "       'weapon', 'weapons', 'whirlwind', 'wildfire', 'windstorm',\n",
       "       'wounded', 'wounds', 'wreck', 'wreckage', 'wrecked'], dtype=object)"
      ]
     },
     "execution_count": 76,
     "metadata": {},
     "output_type": "execute_result"
    }
   ],
   "source": [
    "train['keyword'].unique()"
   ]
  },
  {
   "cell_type": "code",
   "execution_count": 77,
   "id": "1e6233d0",
   "metadata": {},
   "outputs": [
    {
     "data": {
      "text/plain": [
       "array([nan, 'ablaze', 'accident', 'aftershock', 'airplane%20accident',\n",
       "       'ambulance', 'annihilated', 'annihilation', 'apocalypse',\n",
       "       'armageddon', 'army', 'arson', 'arsonist', 'attack', 'attacked',\n",
       "       'avalanche', 'battle', 'bioterror', 'bioterrorism', 'blaze',\n",
       "       'blazing', 'bleeding', 'blew%20up', 'blight', 'blizzard', 'blood',\n",
       "       'bloody', 'blown%20up', 'body%20bag', 'body%20bagging',\n",
       "       'body%20bags', 'bomb', 'bombed', 'bombing', 'bridge%20collapse',\n",
       "       'buildings%20burning', 'buildings%20on%20fire', 'burned',\n",
       "       'burning', 'burning%20buildings', 'bush%20fires', 'casualties',\n",
       "       'casualty', 'catastrophe', 'catastrophic', 'chemical%20emergency',\n",
       "       'cliff%20fall', 'collapse', 'collapsed', 'collide', 'collided',\n",
       "       'collision', 'crash', 'crashed', 'crush', 'crushed', 'curfew',\n",
       "       'cyclone', 'damage', 'danger', 'dead', 'death', 'deaths', 'debris',\n",
       "       'deluge', 'deluged', 'demolish', 'demolished', 'demolition',\n",
       "       'derail', 'derailed', 'derailment', 'desolate', 'desolation',\n",
       "       'destroy', 'destroyed', 'destruction', 'detonate', 'detonation',\n",
       "       'devastated', 'devastation', 'disaster', 'displaced', 'drought',\n",
       "       'drown', 'drowned', 'drowning', 'dust%20storm', 'earthquake',\n",
       "       'electrocute', 'electrocuted', 'emergency', 'emergency%20plan',\n",
       "       'emergency%20services', 'engulfed', 'epicentre', 'evacuate',\n",
       "       'evacuated', 'evacuation', 'explode', 'exploded', 'explosion',\n",
       "       'eyewitness', 'famine', 'fatal', 'fatalities', 'fatality', 'fear',\n",
       "       'fire', 'fire%20truck', 'first%20responders', 'flames',\n",
       "       'flattened', 'flood', 'flooding', 'floods', 'forest%20fire',\n",
       "       'forest%20fires', 'hail', 'hailstorm', 'harm', 'hazard',\n",
       "       'hazardous', 'heat%20wave', 'hellfire', 'hijack', 'hijacker',\n",
       "       'hijacking', 'hostage', 'hostages', 'hurricane', 'injured',\n",
       "       'injuries', 'injury', 'inundated', 'inundation', 'landslide',\n",
       "       'lava', 'lightning', 'loud%20bang', 'mass%20murder',\n",
       "       'mass%20murderer', 'massacre', 'mayhem', 'meltdown', 'military',\n",
       "       'mudslide', 'natural%20disaster', 'nuclear%20disaster',\n",
       "       'nuclear%20reactor', 'obliterate', 'obliterated', 'obliteration',\n",
       "       'oil%20spill', 'outbreak', 'pandemonium', 'panic', 'panicking',\n",
       "       'police', 'quarantine', 'quarantined', 'radiation%20emergency',\n",
       "       'rainstorm', 'razed', 'refugees', 'rescue', 'rescued', 'rescuers',\n",
       "       'riot', 'rioting', 'rubble', 'ruin', 'sandstorm', 'screamed',\n",
       "       'screaming', 'screams', 'seismic', 'sinkhole', 'sinking', 'siren',\n",
       "       'sirens', 'smoke', 'snowstorm', 'storm', 'stretcher',\n",
       "       'structural%20failure', 'suicide%20bomb', 'suicide%20bomber',\n",
       "       'suicide%20bombing', 'sunk', 'survive', 'survived', 'survivors',\n",
       "       'terrorism', 'terrorist', 'threat', 'thunder', 'thunderstorm',\n",
       "       'tornado', 'tragedy', 'trapped', 'trauma', 'traumatised',\n",
       "       'trouble', 'tsunami', 'twister', 'typhoon', 'upheaval',\n",
       "       'violent%20storm', 'volcano', 'war%20zone', 'weapon', 'weapons',\n",
       "       'whirlwind', 'wild%20fires', 'wildfire', 'windstorm', 'wounded',\n",
       "       'wounds', 'wreck', 'wreckage', 'wrecked'], dtype=object)"
      ]
     },
     "execution_count": 77,
     "metadata": {},
     "output_type": "execute_result"
    }
   ],
   "source": [
    "test['keyword'].unique()"
   ]
  },
  {
   "cell_type": "code",
   "execution_count": 78,
   "id": "c749ed7d",
   "metadata": {},
   "outputs": [
    {
     "data": {
      "text/html": [
       "<div>\n",
       "<style scoped>\n",
       "    .dataframe tbody tr th:only-of-type {\n",
       "        vertical-align: middle;\n",
       "    }\n",
       "\n",
       "    .dataframe tbody tr th {\n",
       "        vertical-align: top;\n",
       "    }\n",
       "\n",
       "    .dataframe thead th {\n",
       "        text-align: right;\n",
       "    }\n",
       "</style>\n",
       "<table border=\"1\" class=\"dataframe\">\n",
       "  <thead>\n",
       "    <tr style=\"text-align: right;\">\n",
       "      <th></th>\n",
       "      <th>id</th>\n",
       "      <th>keyword</th>\n",
       "      <th>location</th>\n",
       "      <th>text</th>\n",
       "      <th>target</th>\n",
       "      <th>character_count</th>\n",
       "    </tr>\n",
       "  </thead>\n",
       "  <tbody>\n",
       "    <tr>\n",
       "      <th>0</th>\n",
       "      <td>1</td>\n",
       "      <td>earthquake</td>\n",
       "      <td>NaN</td>\n",
       "      <td>Our Deeds are the Reason of this #earthquake M...</td>\n",
       "      <td>1</td>\n",
       "      <td>69</td>\n",
       "    </tr>\n",
       "    <tr>\n",
       "      <th>1</th>\n",
       "      <td>4</td>\n",
       "      <td>forestfire</td>\n",
       "      <td>NaN</td>\n",
       "      <td>Forest fire near La Ronge Sask. Canada</td>\n",
       "      <td>1</td>\n",
       "      <td>38</td>\n",
       "    </tr>\n",
       "    <tr>\n",
       "      <th>2</th>\n",
       "      <td>5</td>\n",
       "      <td>evacuation</td>\n",
       "      <td>NaN</td>\n",
       "      <td>All residents asked to 'shelter in place' are ...</td>\n",
       "      <td>1</td>\n",
       "      <td>133</td>\n",
       "    </tr>\n",
       "    <tr>\n",
       "      <th>3</th>\n",
       "      <td>6</td>\n",
       "      <td>wildfires</td>\n",
       "      <td>NaN</td>\n",
       "      <td>13,000 people receive #wildfires evacuation or...</td>\n",
       "      <td>1</td>\n",
       "      <td>65</td>\n",
       "    </tr>\n",
       "    <tr>\n",
       "      <th>4</th>\n",
       "      <td>7</td>\n",
       "      <td>wildfires</td>\n",
       "      <td>NaN</td>\n",
       "      <td>Just got sent this photo from Ruby #Alaska as ...</td>\n",
       "      <td>1</td>\n",
       "      <td>88</td>\n",
       "    </tr>\n",
       "    <tr>\n",
       "      <th>...</th>\n",
       "      <td>...</td>\n",
       "      <td>...</td>\n",
       "      <td>...</td>\n",
       "      <td>...</td>\n",
       "      <td>...</td>\n",
       "      <td>...</td>\n",
       "    </tr>\n",
       "    <tr>\n",
       "      <th>7588</th>\n",
       "      <td>10863</td>\n",
       "      <td>wrecked</td>\n",
       "      <td>NaN</td>\n",
       "      <td>#WorldNews Fallen powerlines on G:link tram: U...</td>\n",
       "      <td>1</td>\n",
       "      <td>136</td>\n",
       "    </tr>\n",
       "    <tr>\n",
       "      <th>7589</th>\n",
       "      <td>10864</td>\n",
       "      <td>wrecked</td>\n",
       "      <td>NaN</td>\n",
       "      <td>on the flip side I'm at Walmart and there is a...</td>\n",
       "      <td>1</td>\n",
       "      <td>114</td>\n",
       "    </tr>\n",
       "    <tr>\n",
       "      <th>7590</th>\n",
       "      <td>10866</td>\n",
       "      <td>wrecked</td>\n",
       "      <td>NaN</td>\n",
       "      <td>Suicide bomber kills 15 in Saudi security site...</td>\n",
       "      <td>1</td>\n",
       "      <td>121</td>\n",
       "    </tr>\n",
       "    <tr>\n",
       "      <th>7592</th>\n",
       "      <td>10869</td>\n",
       "      <td>wrecked</td>\n",
       "      <td>NaN</td>\n",
       "      <td>Two giant cranes holding a bridge collapse int...</td>\n",
       "      <td>1</td>\n",
       "      <td>83</td>\n",
       "    </tr>\n",
       "    <tr>\n",
       "      <th>7596</th>\n",
       "      <td>10873</td>\n",
       "      <td>wrecked</td>\n",
       "      <td>NaN</td>\n",
       "      <td>The Latest: More Homes Razed by Northern Calif...</td>\n",
       "      <td>1</td>\n",
       "      <td>94</td>\n",
       "    </tr>\n",
       "  </tbody>\n",
       "</table>\n",
       "<p>7487 rows × 6 columns</p>\n",
       "</div>"
      ],
      "text/plain": [
       "         id     keyword location  \\\n",
       "0         1  earthquake      NaN   \n",
       "1         4  forestfire      NaN   \n",
       "2         5  evacuation      NaN   \n",
       "3         6   wildfires      NaN   \n",
       "4         7   wildfires      NaN   \n",
       "...     ...         ...      ...   \n",
       "7588  10863     wrecked      NaN   \n",
       "7589  10864     wrecked      NaN   \n",
       "7590  10866     wrecked      NaN   \n",
       "7592  10869     wrecked      NaN   \n",
       "7596  10873     wrecked      NaN   \n",
       "\n",
       "                                                   text  target  \\\n",
       "0     Our Deeds are the Reason of this #earthquake M...       1   \n",
       "1                Forest fire near La Ronge Sask. Canada       1   \n",
       "2     All residents asked to 'shelter in place' are ...       1   \n",
       "3     13,000 people receive #wildfires evacuation or...       1   \n",
       "4     Just got sent this photo from Ruby #Alaska as ...       1   \n",
       "...                                                 ...     ...   \n",
       "7588  #WorldNews Fallen powerlines on G:link tram: U...       1   \n",
       "7589  on the flip side I'm at Walmart and there is a...       1   \n",
       "7590  Suicide bomber kills 15 in Saudi security site...       1   \n",
       "7592  Two giant cranes holding a bridge collapse int...       1   \n",
       "7596  The Latest: More Homes Razed by Northern Calif...       1   \n",
       "\n",
       "      character_count  \n",
       "0                  69  \n",
       "1                  38  \n",
       "2                 133  \n",
       "3                  65  \n",
       "4                  88  \n",
       "...               ...  \n",
       "7588              136  \n",
       "7589              114  \n",
       "7590              121  \n",
       "7592               83  \n",
       "7596               94  \n",
       "\n",
       "[7487 rows x 6 columns]"
      ]
     },
     "execution_count": 78,
     "metadata": {},
     "output_type": "execute_result"
    }
   ],
   "source": [
    "#Remove spaces in keywords(which show up as %20)\n",
    "train['keyword'] = train['keyword'].str.replace(r'(%|\\s*20)', '', regex=True)\n",
    "train"
   ]
  },
  {
   "cell_type": "code",
   "execution_count": 79,
   "id": "12e5a4a3",
   "metadata": {},
   "outputs": [
    {
     "data": {
      "text/html": [
       "<div>\n",
       "<style scoped>\n",
       "    .dataframe tbody tr th:only-of-type {\n",
       "        vertical-align: middle;\n",
       "    }\n",
       "\n",
       "    .dataframe tbody tr th {\n",
       "        vertical-align: top;\n",
       "    }\n",
       "\n",
       "    .dataframe thead th {\n",
       "        text-align: right;\n",
       "    }\n",
       "</style>\n",
       "<table border=\"1\" class=\"dataframe\">\n",
       "  <thead>\n",
       "    <tr style=\"text-align: right;\">\n",
       "      <th></th>\n",
       "      <th>id</th>\n",
       "      <th>keyword</th>\n",
       "      <th>location</th>\n",
       "      <th>text</th>\n",
       "    </tr>\n",
       "  </thead>\n",
       "  <tbody>\n",
       "    <tr>\n",
       "      <th>0</th>\n",
       "      <td>0</td>\n",
       "      <td>NaN</td>\n",
       "      <td>NaN</td>\n",
       "      <td>Just happened a terrible car crash</td>\n",
       "    </tr>\n",
       "    <tr>\n",
       "      <th>1</th>\n",
       "      <td>2</td>\n",
       "      <td>NaN</td>\n",
       "      <td>NaN</td>\n",
       "      <td>Heard about #earthquake is different cities, s...</td>\n",
       "    </tr>\n",
       "    <tr>\n",
       "      <th>2</th>\n",
       "      <td>3</td>\n",
       "      <td>NaN</td>\n",
       "      <td>NaN</td>\n",
       "      <td>there is a forest fire at spot pond, geese are...</td>\n",
       "    </tr>\n",
       "    <tr>\n",
       "      <th>3</th>\n",
       "      <td>9</td>\n",
       "      <td>NaN</td>\n",
       "      <td>NaN</td>\n",
       "      <td>Apocalypse lighting. #Spokane #wildfires</td>\n",
       "    </tr>\n",
       "    <tr>\n",
       "      <th>4</th>\n",
       "      <td>11</td>\n",
       "      <td>NaN</td>\n",
       "      <td>NaN</td>\n",
       "      <td>Typhoon Soudelor kills 28 in China and Taiwan</td>\n",
       "    </tr>\n",
       "    <tr>\n",
       "      <th>...</th>\n",
       "      <td>...</td>\n",
       "      <td>...</td>\n",
       "      <td>...</td>\n",
       "      <td>...</td>\n",
       "    </tr>\n",
       "    <tr>\n",
       "      <th>3258</th>\n",
       "      <td>10861</td>\n",
       "      <td>NaN</td>\n",
       "      <td>NaN</td>\n",
       "      <td>EARTHQUAKE SAFETY LOS ANGELES ÛÒ SAFETY FASTE...</td>\n",
       "    </tr>\n",
       "    <tr>\n",
       "      <th>3259</th>\n",
       "      <td>10865</td>\n",
       "      <td>NaN</td>\n",
       "      <td>NaN</td>\n",
       "      <td>Storm in RI worse than last hurricane. My city...</td>\n",
       "    </tr>\n",
       "    <tr>\n",
       "      <th>3260</th>\n",
       "      <td>10868</td>\n",
       "      <td>NaN</td>\n",
       "      <td>NaN</td>\n",
       "      <td>Green Line derailment in Chicago http://t.co/U...</td>\n",
       "    </tr>\n",
       "    <tr>\n",
       "      <th>3261</th>\n",
       "      <td>10874</td>\n",
       "      <td>NaN</td>\n",
       "      <td>NaN</td>\n",
       "      <td>MEG issues Hazardous Weather Outlook (HWO) htt...</td>\n",
       "    </tr>\n",
       "    <tr>\n",
       "      <th>3262</th>\n",
       "      <td>10875</td>\n",
       "      <td>NaN</td>\n",
       "      <td>NaN</td>\n",
       "      <td>#CityofCalgary has activated its Municipal Eme...</td>\n",
       "    </tr>\n",
       "  </tbody>\n",
       "</table>\n",
       "<p>3243 rows × 4 columns</p>\n",
       "</div>"
      ],
      "text/plain": [
       "         id keyword location  \\\n",
       "0         0     NaN      NaN   \n",
       "1         2     NaN      NaN   \n",
       "2         3     NaN      NaN   \n",
       "3         9     NaN      NaN   \n",
       "4        11     NaN      NaN   \n",
       "...     ...     ...      ...   \n",
       "3258  10861     NaN      NaN   \n",
       "3259  10865     NaN      NaN   \n",
       "3260  10868     NaN      NaN   \n",
       "3261  10874     NaN      NaN   \n",
       "3262  10875     NaN      NaN   \n",
       "\n",
       "                                                   text  \n",
       "0                    Just happened a terrible car crash  \n",
       "1     Heard about #earthquake is different cities, s...  \n",
       "2     there is a forest fire at spot pond, geese are...  \n",
       "3              Apocalypse lighting. #Spokane #wildfires  \n",
       "4         Typhoon Soudelor kills 28 in China and Taiwan  \n",
       "...                                                 ...  \n",
       "3258  EARTHQUAKE SAFETY LOS ANGELES ÛÒ SAFETY FASTE...  \n",
       "3259  Storm in RI worse than last hurricane. My city...  \n",
       "3260  Green Line derailment in Chicago http://t.co/U...  \n",
       "3261  MEG issues Hazardous Weather Outlook (HWO) htt...  \n",
       "3262  #CityofCalgary has activated its Municipal Eme...  \n",
       "\n",
       "[3243 rows x 4 columns]"
      ]
     },
     "execution_count": 79,
     "metadata": {},
     "output_type": "execute_result"
    }
   ],
   "source": [
    "#Remove spaces in keywords(which show up as %20)\n",
    "test['keyword'] = test['keyword'].str.replace(r'(%|\\s*20)', '', regex=True)\n",
    "test"
   ]
  },
  {
   "cell_type": "code",
   "execution_count": 80,
   "id": "6840840b",
   "metadata": {},
   "outputs": [
    {
     "data": {
      "text/plain": [
       "array(['earthquake', 'forestfire', 'evacuation', 'wildfires', 'flood',\n",
       "       'fire', 'tornado', 'heatwave', 'flooding', 'crash', 'ablaze',\n",
       "       'accident', 'aftershock', 'airplaneaccident', 'ambulance',\n",
       "       'annihilated', 'annihilation', 'apocalypse', 'armageddon', 'army',\n",
       "       'arson', 'arsonist', 'attack', 'attacked', 'avalanche', 'battle',\n",
       "       'bioterror', 'bioterrorism', 'blaze', 'blazing', 'bleeding',\n",
       "       'blewup', 'blight', 'blizzard', 'blood', 'bloody', 'blownup',\n",
       "       'bodybag', 'bodybagging', 'bodybags', 'bomb', 'bombed', 'bombing',\n",
       "       'bridgecollapse', 'buildingsburning', 'buildingsonfire', 'burned',\n",
       "       'burning', 'burningbuildings', 'bushfires', 'casualties',\n",
       "       'casualty', 'catastrophe', 'catastrophic', 'chemicalemergency',\n",
       "       'clifffall', 'collapse', 'collapsed', 'collide', 'collided',\n",
       "       'collision', 'crashed', 'crush', 'crushed', 'curfew', 'cyclone',\n",
       "       'damage', 'danger', 'dead', 'death', 'deaths', 'debris', 'deluge',\n",
       "       'deluged', 'demolish', 'demolished', 'demolition', 'derail',\n",
       "       'derailed', 'derailment', 'desolate', 'desolation', 'destroy',\n",
       "       'destroyed', 'destruction', 'detonate', 'detonation', 'devastated',\n",
       "       'devastation', 'disaster', 'displaced', 'drought', 'drown',\n",
       "       'drowned', 'drowning', 'duststorm', 'electrocute', 'electrocuted',\n",
       "       'emergency', 'emergencyplan', 'emergencyservices', 'engulfed',\n",
       "       'epicentre', 'evacuate', 'evacuated', 'explode', 'exploded',\n",
       "       'explosion', 'eyewitness', 'famine', 'fatal', 'fatalities',\n",
       "       'fatality', 'fear', 'firetruck', 'firstresponders', 'flames',\n",
       "       'flattened', 'floods', 'forestfires', 'hail', 'hailstorm', 'harm',\n",
       "       'hazard', 'hazardous', 'hellfire', 'hijack', 'hijacker',\n",
       "       'hijacking', 'hostage', 'hostages', 'hurricane', 'injured',\n",
       "       'injuries', 'injury', 'inundated', 'inundation', 'landslide',\n",
       "       'lava', 'lightning', 'loudbang', 'massmurder', 'massmurderer',\n",
       "       'massacre', 'mayhem', 'meltdown', 'military', 'mudslide',\n",
       "       'naturaldisaster', 'nucleardisaster', 'nuclearreactor',\n",
       "       'obliterate', 'obliterated', 'obliteration', 'oilspill',\n",
       "       'outbreak', 'pandemonium', 'panic', 'panicking', 'police',\n",
       "       'quarantine', 'quarantined', 'radiationemergency', 'rainstorm',\n",
       "       'razed', 'refugees', 'rescue', 'rescued', 'rescuers', 'riot',\n",
       "       'rioting', 'rubble', 'ruin', 'sandstorm', 'screamed', 'screaming',\n",
       "       'screams', 'seismic', 'sinkhole', 'sinking', 'siren', 'sirens',\n",
       "       'smoke', 'snowstorm', 'storm', 'stretcher', 'structuralfailure',\n",
       "       'suicidebomb', 'suicidebomber', 'suicidebombing', 'sunk',\n",
       "       'survive', 'survived', 'survivors', 'terrorism', 'terrorist',\n",
       "       'threat', 'thunder', 'thunderstorm', 'tragedy', 'trapped',\n",
       "       'trauma', 'traumatised', 'trouble', 'tsunami', 'twister',\n",
       "       'typhoon', 'upheaval', 'violentstorm', 'volcano', 'warzone',\n",
       "       'weapon', 'weapons', 'whirlwind', 'wildfire', 'windstorm',\n",
       "       'wounded', 'wounds', 'wreck', 'wreckage', 'wrecked'], dtype=object)"
      ]
     },
     "execution_count": 80,
     "metadata": {},
     "output_type": "execute_result"
    }
   ],
   "source": [
    "#Show all unique keywords after removing spaces\n",
    "train['keyword'].unique()"
   ]
  },
  {
   "cell_type": "code",
   "execution_count": 81,
   "id": "5fb2a65a",
   "metadata": {},
   "outputs": [
    {
     "name": "stdout",
     "output_type": "stream",
     "text": [
      "Keyword             Stem                \n",
      "earthquake          earthquak           \n",
      "forestfire          forestfir           \n",
      "evacuation          evacu               \n",
      "wildfires           wildfir             \n",
      "flood               flood               \n",
      "fire                fire                \n",
      "tornado             tornado             \n",
      "heatwave            heatwav             \n",
      "flooding            flood               \n",
      "crash               crash               \n",
      "ablaze              ablaz               \n",
      "accident            accid               \n",
      "aftershock          aftershock          \n",
      "airplaneaccident    airplaneaccid       \n",
      "ambulance           ambul               \n",
      "annihilated         annihil             \n",
      "annihilation        annihil             \n",
      "apocalypse          apocalyps           \n",
      "armageddon          armageddon          \n",
      "army                armi                \n",
      "arson               arson               \n",
      "arsonist            arsonist            \n",
      "attack              attack              \n",
      "attacked            attack              \n",
      "avalanche           avalanch            \n",
      "battle              battl               \n",
      "bioterror           bioterror           \n",
      "bioterrorism        bioterror           \n",
      "blaze               blaze               \n",
      "blazing             blaze               \n",
      "bleeding            bleed               \n",
      "blewup              blewup              \n",
      "blight              blight              \n",
      "blizzard            blizzard            \n",
      "blood               blood               \n",
      "bloody              bloodi              \n",
      "blownup             blownup             \n",
      "bodybag             bodybag             \n",
      "bodybagging         bodybag             \n",
      "bodybags            bodybag             \n",
      "bomb                bomb                \n",
      "bombed              bomb                \n",
      "bombing             bomb                \n",
      "bridgecollapse      bridgecollaps       \n",
      "buildingsburning    buildingsburn       \n",
      "buildingsonfire     buildingsonfir      \n",
      "burned              burn                \n",
      "burning             burn                \n",
      "burningbuildings    burningbuild        \n",
      "bushfires           bushfir             \n",
      "casualties          casualti            \n",
      "casualty            casualti            \n",
      "catastrophe         catastroph          \n",
      "catastrophic        catastroph          \n",
      "chemicalemergency   chemicalemerg       \n",
      "clifffall           clifffal            \n",
      "collapse            collaps             \n",
      "collapsed           collaps             \n",
      "collide             collid              \n",
      "collided            collid              \n",
      "collision           collis              \n",
      "crashed             crash               \n",
      "crush               crush               \n",
      "crushed             crush               \n",
      "curfew              curfew              \n",
      "cyclone             cyclon              \n",
      "damage              damag               \n",
      "danger              danger              \n",
      "dead                dead                \n",
      "death               death               \n",
      "deaths              death               \n",
      "debris              debri               \n",
      "deluge              delug               \n",
      "deluged             delug               \n",
      "demolish            demolish            \n",
      "demolished          demolish            \n",
      "demolition          demolit             \n",
      "derail              derail              \n",
      "derailed            derail              \n",
      "derailment          derail              \n",
      "desolate            desol               \n",
      "desolation          desol               \n",
      "destroy             destroy             \n",
      "destroyed           destroy             \n",
      "destruction         destruct            \n",
      "detonate            deton               \n",
      "detonation          deton               \n",
      "devastated          devast              \n",
      "devastation         devast              \n",
      "disaster            disast              \n",
      "displaced           displac             \n",
      "drought             drought             \n",
      "drown               drown               \n",
      "drowned             drown               \n",
      "drowning            drown               \n",
      "duststorm           duststorm           \n",
      "electrocute         electrocut          \n",
      "electrocuted        electrocut          \n",
      "emergency           emerg               \n",
      "emergencyplan       emergencyplan       \n",
      "emergencyservices   emergencyservic     \n",
      "engulfed            engulf              \n",
      "epicentre           epicentr            \n",
      "evacuate            evacu               \n",
      "evacuated           evacu               \n",
      "explode             explod              \n",
      "exploded            explod              \n",
      "explosion           explos              \n",
      "eyewitness          eyewit              \n",
      "famine              famin               \n",
      "fatal               fatal               \n",
      "fatalities          fatal               \n",
      "fatality            fatal               \n",
      "fear                fear                \n",
      "firetruck           firetruck           \n",
      "firstresponders     firstrespond        \n",
      "flames              flame               \n",
      "flattened           flatten             \n",
      "floods              flood               \n",
      "forestfires         forestfir           \n",
      "hail                hail                \n",
      "hailstorm           hailstorm           \n",
      "harm                harm                \n",
      "hazard              hazard              \n",
      "hazardous           hazard              \n",
      "hellfire            hellfir             \n",
      "hijack              hijack              \n",
      "hijacker            hijack              \n",
      "hijacking           hijack              \n",
      "hostage             hostag              \n",
      "hostages            hostag              \n",
      "hurricane           hurrican            \n",
      "injured             injur               \n",
      "injuries            injuri              \n",
      "injury              injuri              \n",
      "inundated           inund               \n",
      "inundation          inund               \n",
      "landslide           landslid            \n",
      "lava                lava                \n",
      "lightning           lightn              \n",
      "loudbang            loudbang            \n",
      "massmurder          massmurd            \n",
      "massmurderer        massmurder          \n",
      "massacre            massacr             \n",
      "mayhem              mayhem              \n",
      "meltdown            meltdown            \n",
      "military            militari            \n",
      "mudslide            mudslid             \n",
      "naturaldisaster     naturaldisast       \n",
      "nucleardisaster     nucleardisast       \n",
      "nuclearreactor      nuclearreactor      \n",
      "obliterate          obliter             \n",
      "obliterated         obliter             \n",
      "obliteration        obliter             \n",
      "oilspill            oilspil             \n",
      "outbreak            outbreak            \n",
      "pandemonium         pandemonium         \n",
      "panic               panic               \n",
      "panicking           panick              \n",
      "police              polic               \n",
      "quarantine          quarantin           \n",
      "quarantined         quarantin           \n",
      "radiationemergency  radiationemerg      \n",
      "rainstorm           rainstorm           \n",
      "razed               raze                \n",
      "refugees            refuge              \n",
      "rescue              rescu               \n",
      "rescued             rescu               \n",
      "rescuers            rescuer             \n",
      "riot                riot                \n",
      "rioting             riot                \n",
      "rubble              rubbl               \n",
      "ruin                ruin                \n",
      "sandstorm           sandstorm           \n",
      "screamed            scream              \n",
      "screaming           scream              \n",
      "screams             scream              \n",
      "seismic             seismic             \n",
      "sinkhole            sinkhol             \n",
      "sinking             sink                \n",
      "siren               siren               \n",
      "sirens              siren               \n",
      "smoke               smoke               \n",
      "snowstorm           snowstorm           \n",
      "storm               storm               \n",
      "stretcher           stretcher           \n",
      "structuralfailure   structuralfailur    \n",
      "suicidebomb         suicidebomb         \n",
      "suicidebomber       suicidebomb         \n",
      "suicidebombing      suicidebomb         \n",
      "sunk                sunk                \n",
      "survive             surviv              \n",
      "survived            surviv              \n",
      "survivors           survivor            \n",
      "terrorism           terror              \n",
      "terrorist           terrorist           \n",
      "threat              threat              \n",
      "thunder             thunder             \n",
      "thunderstorm        thunderstorm        \n",
      "tragedy             tragedi             \n",
      "trapped             trap                \n",
      "trauma              trauma              \n",
      "traumatised         traumatis           \n",
      "trouble             troubl              \n",
      "tsunami             tsunami             \n",
      "twister             twister             \n",
      "typhoon             typhoon             \n",
      "upheaval            upheav              \n",
      "violentstorm        violentstorm        \n",
      "volcano             volcano             \n",
      "warzone             warzon              \n",
      "weapon              weapon              \n",
      "weapons             weapon              \n",
      "whirlwind           whirlwind           \n",
      "wildfire            wildfir             \n",
      "windstorm           windstorm           \n",
      "wounded             wound               \n",
      "wounds              wound               \n",
      "wreck               wreck               \n",
      "wreckage            wreckag             \n",
      "wrecked             wreck               \n"
     ]
    },
    {
     "name": "stderr",
     "output_type": "stream",
     "text": [
      "[nltk_data] Downloading package stopwords to\n",
      "[nltk_data]     /Users/viviando/nltk_data...\n",
      "[nltk_data]   Package stopwords is already up-to-date!\n"
     ]
    }
   ],
   "source": [
    "#Stemming of training keywords\n",
    "\n",
    "# library to clean data\n",
    "import re\n",
    " \n",
    "# Natural Language Tool Kit\n",
    "import nltk\n",
    " \n",
    "nltk.download('stopwords')\n",
    " \n",
    "# to remove stopword\n",
    "from nltk.corpus import stopwords\n",
    " \n",
    "# for Stemming propose\n",
    "from nltk.stem.porter import PorterStemmer\n",
    " \n",
    "porter = PorterStemmer()\n",
    "\n",
    "#A list of words to be stemmed\n",
    "keyword_list = ['earthquake', 'forestfire', 'evacuation', 'wildfires', 'flood',\n",
    "       'fire', 'tornado', 'heatwave', 'flooding', 'crash', 'ablaze',\n",
    "       'accident', 'aftershock', 'airplaneaccident', 'ambulance',\n",
    "       'annihilated', 'annihilation', 'apocalypse', 'armageddon', 'army',\n",
    "       'arson', 'arsonist', 'attack', 'attacked', 'avalanche', 'battle',\n",
    "       'bioterror', 'bioterrorism', 'blaze', 'blazing', 'bleeding',\n",
    "       'blewup', 'blight', 'blizzard', 'blood', 'bloody', 'blownup',\n",
    "       'bodybag', 'bodybagging', 'bodybags', 'bomb', 'bombed', 'bombing',\n",
    "       'bridgecollapse', 'buildingsburning', 'buildingsonfire', 'burned',\n",
    "       'burning', 'burningbuildings', 'bushfires', 'casualties',\n",
    "       'casualty', 'catastrophe', 'catastrophic', 'chemicalemergency',\n",
    "       'clifffall', 'collapse', 'collapsed', 'collide', 'collided',\n",
    "       'collision', 'crashed', 'crush', 'crushed', 'curfew', 'cyclone',\n",
    "       'damage', 'danger', 'dead', 'death', 'deaths', 'debris', 'deluge',\n",
    "       'deluged', 'demolish', 'demolished', 'demolition', 'derail',\n",
    "       'derailed', 'derailment', 'desolate', 'desolation', 'destroy',\n",
    "       'destroyed', 'destruction', 'detonate', 'detonation', 'devastated',\n",
    "       'devastation', 'disaster', 'displaced', 'drought', 'drown',\n",
    "       'drowned', 'drowning', 'duststorm', 'electrocute', 'electrocuted',\n",
    "       'emergency', 'emergencyplan', 'emergencyservices', 'engulfed',\n",
    "       'epicentre', 'evacuate', 'evacuated', 'explode', 'exploded',\n",
    "       'explosion', 'eyewitness', 'famine', 'fatal', 'fatalities',\n",
    "       'fatality', 'fear', 'firetruck', 'firstresponders', 'flames',\n",
    "       'flattened', 'floods', 'forestfires', 'hail', 'hailstorm', 'harm',\n",
    "       'hazard', 'hazardous', 'hellfire', 'hijack', 'hijacker',\n",
    "       'hijacking', 'hostage', 'hostages', 'hurricane', 'injured',\n",
    "       'injuries', 'injury', 'inundated', 'inundation', 'landslide',\n",
    "       'lava', 'lightning', 'loudbang', 'massmurder', 'massmurderer',\n",
    "       'massacre', 'mayhem', 'meltdown', 'military', 'mudslide',\n",
    "       'naturaldisaster', 'nucleardisaster', 'nuclearreactor',\n",
    "       'obliterate', 'obliterated', 'obliteration', 'oilspill',\n",
    "       'outbreak', 'pandemonium', 'panic', 'panicking', 'police',\n",
    "       'quarantine', 'quarantined', 'radiationemergency', 'rainstorm',\n",
    "       'razed', 'refugees', 'rescue', 'rescued', 'rescuers', 'riot',\n",
    "       'rioting', 'rubble', 'ruin', 'sandstorm', 'screamed', 'screaming',\n",
    "       'screams', 'seismic', 'sinkhole', 'sinking', 'siren', 'sirens',\n",
    "       'smoke', 'snowstorm', 'storm', 'stretcher', 'structuralfailure',\n",
    "       'suicidebomb', 'suicidebomber', 'suicidebombing', 'sunk',\n",
    "       'survive', 'survived', 'survivors', 'terrorism', 'terrorist',\n",
    "       'threat', 'thunder', 'thunderstorm', 'tragedy', 'trapped',\n",
    "       'trauma', 'traumatised', 'trouble', 'tsunami', 'twister',\n",
    "       'typhoon', 'upheaval', 'violentstorm', 'volcano', 'warzone',\n",
    "       'weapon', 'weapons', 'whirlwind', 'wildfire', 'windstorm',\n",
    "       'wounded', 'wounds', 'wreck', 'wreckage', 'wrecked']\n",
    "\n",
    "print(\"{0:20}{1:20}\".format(\"Keyword\",\"Stem\"))\n",
    "for word in keyword_list:\n",
    "    print(\"{0:20}{1:20}\".format(word,porter.stem(word)))"
   ]
  },
  {
   "cell_type": "code",
   "execution_count": 82,
   "id": "43a9c973",
   "metadata": {},
   "outputs": [],
   "source": [
    "#Create new column for stemmed keywords\n",
    "keyword_list = ['earthquake', 'forestfire', 'evacuation', 'wildfires', 'flood',\n",
    "       'fire', 'tornado', 'heatwave', 'flooding', 'crash', 'ablaze',\n",
    "       'accident', 'aftershock', 'airplaneaccident', 'ambulance',\n",
    "       'annihilated', 'annihilation', 'apocalypse', 'armageddon', 'army',\n",
    "       'arson', 'arsonist', 'attack', 'attacked', 'avalanche', 'battle',\n",
    "       'bioterror', 'bioterrorism', 'blaze', 'blazing', 'bleeding',\n",
    "       'blewup', 'blight', 'blizzard', 'blood', 'bloody', 'blownup',\n",
    "       'bodybag', 'bodybagging', 'bodybags', 'bomb', 'bombed', 'bombing',\n",
    "       'bridgecollapse', 'buildingsburning', 'buildingsonfire', 'burned',\n",
    "       'burning', 'burningbuildings', 'bushfires', 'casualties',\n",
    "       'casualty', 'catastrophe', 'catastrophic', 'chemicalemergency',\n",
    "       'clifffall', 'collapse', 'collapsed', 'collide', 'collided',\n",
    "       'collision', 'crashed', 'crush', 'crushed', 'curfew', 'cyclone',\n",
    "       'damage', 'danger', 'dead', 'death', 'deaths', 'debris', 'deluge',\n",
    "       'deluged', 'demolish', 'demolished', 'demolition', 'derail',\n",
    "       'derailed', 'derailment', 'desolate', 'desolation', 'destroy',\n",
    "       'destroyed', 'destruction', 'detonate', 'detonation', 'devastated',\n",
    "       'devastation', 'disaster', 'displaced', 'drought', 'drown',\n",
    "       'drowned', 'drowning', 'duststorm', 'electrocute', 'electrocuted',\n",
    "       'emergency', 'emergencyplan', 'emergencyservices', 'engulfed',\n",
    "       'epicentre', 'evacuate', 'evacuated', 'explode', 'exploded',\n",
    "       'explosion', 'eyewitness', 'famine', 'fatal', 'fatalities',\n",
    "       'fatality', 'fear', 'firetruck', 'firstresponders', 'flames',\n",
    "       'flattened', 'floods', 'forestfires', 'hail', 'hailstorm', 'harm',\n",
    "       'hazard', 'hazardous', 'hellfire', 'hijack', 'hijacker',\n",
    "       'hijacking', 'hostage', 'hostages', 'hurricane', 'injured',\n",
    "       'injuries', 'injury', 'inundated', 'inundation', 'landslide',\n",
    "       'lava', 'lightning', 'loudbang', 'massmurder', 'massmurderer',\n",
    "       'massacre', 'mayhem', 'meltdown', 'military', 'mudslide',\n",
    "       'naturaldisaster', 'nucleardisaster', 'nuclearreactor',\n",
    "       'obliterate', 'obliterated', 'obliteration', 'oilspill',\n",
    "       'outbreak', 'pandemonium', 'panic', 'panicking', 'police',\n",
    "       'quarantine', 'quarantined', 'radiationemergency', 'rainstorm',\n",
    "       'razed', 'refugees', 'rescue', 'rescued', 'rescuers', 'riot',\n",
    "       'rioting', 'rubble', 'ruin', 'sandstorm', 'screamed', 'screaming',\n",
    "       'screams', 'seismic', 'sinkhole', 'sinking', 'siren', 'sirens',\n",
    "       'smoke', 'snowstorm', 'storm', 'stretcher', 'structuralfailure',\n",
    "       'suicidebomb', 'suicidebomber', 'suicidebombing', 'sunk',\n",
    "       'survive', 'survived', 'survivors', 'terrorism', 'terrorist',\n",
    "       'threat', 'thunder', 'thunderstorm', 'tragedy', 'trapped',\n",
    "       'trauma', 'traumatised', 'trouble', 'tsunami', 'twister',\n",
    "       'typhoon', 'upheaval', 'violentstorm', 'volcano', 'warzone',\n",
    "       'weapon', 'weapons', 'whirlwind', 'wildfire', 'windstorm',\n",
    "       'wounded', 'wounds', 'wreck', 'wreckage', 'wrecked']\n",
    "for word in keyword_list:\n",
    "    train['stem'] = train.keyword.apply(porter.stem)"
   ]
  },
  {
   "cell_type": "code",
   "execution_count": 83,
   "id": "5923f4a2",
   "metadata": {},
   "outputs": [
    {
     "data": {
      "text/html": [
       "<div>\n",
       "<style scoped>\n",
       "    .dataframe tbody tr th:only-of-type {\n",
       "        vertical-align: middle;\n",
       "    }\n",
       "\n",
       "    .dataframe tbody tr th {\n",
       "        vertical-align: top;\n",
       "    }\n",
       "\n",
       "    .dataframe thead th {\n",
       "        text-align: right;\n",
       "    }\n",
       "</style>\n",
       "<table border=\"1\" class=\"dataframe\">\n",
       "  <thead>\n",
       "    <tr style=\"text-align: right;\">\n",
       "      <th></th>\n",
       "      <th>id</th>\n",
       "      <th>keyword</th>\n",
       "      <th>location</th>\n",
       "      <th>text</th>\n",
       "      <th>target</th>\n",
       "      <th>character_count</th>\n",
       "      <th>stem</th>\n",
       "    </tr>\n",
       "  </thead>\n",
       "  <tbody>\n",
       "    <tr>\n",
       "      <th>0</th>\n",
       "      <td>1</td>\n",
       "      <td>earthquake</td>\n",
       "      <td>NaN</td>\n",
       "      <td>Our Deeds are the Reason of this #earthquake M...</td>\n",
       "      <td>1</td>\n",
       "      <td>69</td>\n",
       "      <td>earthquak</td>\n",
       "    </tr>\n",
       "    <tr>\n",
       "      <th>1</th>\n",
       "      <td>4</td>\n",
       "      <td>forestfire</td>\n",
       "      <td>NaN</td>\n",
       "      <td>Forest fire near La Ronge Sask. Canada</td>\n",
       "      <td>1</td>\n",
       "      <td>38</td>\n",
       "      <td>forestfir</td>\n",
       "    </tr>\n",
       "    <tr>\n",
       "      <th>2</th>\n",
       "      <td>5</td>\n",
       "      <td>evacuation</td>\n",
       "      <td>NaN</td>\n",
       "      <td>All residents asked to 'shelter in place' are ...</td>\n",
       "      <td>1</td>\n",
       "      <td>133</td>\n",
       "      <td>evacu</td>\n",
       "    </tr>\n",
       "    <tr>\n",
       "      <th>3</th>\n",
       "      <td>6</td>\n",
       "      <td>wildfires</td>\n",
       "      <td>NaN</td>\n",
       "      <td>13,000 people receive #wildfires evacuation or...</td>\n",
       "      <td>1</td>\n",
       "      <td>65</td>\n",
       "      <td>wildfir</td>\n",
       "    </tr>\n",
       "    <tr>\n",
       "      <th>4</th>\n",
       "      <td>7</td>\n",
       "      <td>wildfires</td>\n",
       "      <td>NaN</td>\n",
       "      <td>Just got sent this photo from Ruby #Alaska as ...</td>\n",
       "      <td>1</td>\n",
       "      <td>88</td>\n",
       "      <td>wildfir</td>\n",
       "    </tr>\n",
       "    <tr>\n",
       "      <th>5</th>\n",
       "      <td>8</td>\n",
       "      <td>wildfires</td>\n",
       "      <td>NaN</td>\n",
       "      <td>#RockyFire Update =&gt; California Hwy. 20 closed...</td>\n",
       "      <td>1</td>\n",
       "      <td>110</td>\n",
       "      <td>wildfir</td>\n",
       "    </tr>\n",
       "    <tr>\n",
       "      <th>6</th>\n",
       "      <td>10</td>\n",
       "      <td>flood</td>\n",
       "      <td>NaN</td>\n",
       "      <td>#flood #disaster Heavy rain causes flash flood...</td>\n",
       "      <td>1</td>\n",
       "      <td>95</td>\n",
       "      <td>flood</td>\n",
       "    </tr>\n",
       "    <tr>\n",
       "      <th>7</th>\n",
       "      <td>13</td>\n",
       "      <td>fire</td>\n",
       "      <td>NaN</td>\n",
       "      <td>I'm on top of the hill and I can see a fire in...</td>\n",
       "      <td>1</td>\n",
       "      <td>59</td>\n",
       "      <td>fire</td>\n",
       "    </tr>\n",
       "    <tr>\n",
       "      <th>8</th>\n",
       "      <td>14</td>\n",
       "      <td>evacuation</td>\n",
       "      <td>NaN</td>\n",
       "      <td>There's an emergency evacuation happening now ...</td>\n",
       "      <td>1</td>\n",
       "      <td>79</td>\n",
       "      <td>evacu</td>\n",
       "    </tr>\n",
       "    <tr>\n",
       "      <th>9</th>\n",
       "      <td>15</td>\n",
       "      <td>tornado</td>\n",
       "      <td>NaN</td>\n",
       "      <td>I'm afraid that the tornado is coming to our a...</td>\n",
       "      <td>1</td>\n",
       "      <td>52</td>\n",
       "      <td>tornado</td>\n",
       "    </tr>\n",
       "  </tbody>\n",
       "</table>\n",
       "</div>"
      ],
      "text/plain": [
       "   id     keyword location                                               text  \\\n",
       "0   1  earthquake      NaN  Our Deeds are the Reason of this #earthquake M...   \n",
       "1   4  forestfire      NaN             Forest fire near La Ronge Sask. Canada   \n",
       "2   5  evacuation      NaN  All residents asked to 'shelter in place' are ...   \n",
       "3   6   wildfires      NaN  13,000 people receive #wildfires evacuation or...   \n",
       "4   7   wildfires      NaN  Just got sent this photo from Ruby #Alaska as ...   \n",
       "5   8   wildfires      NaN  #RockyFire Update => California Hwy. 20 closed...   \n",
       "6  10       flood      NaN  #flood #disaster Heavy rain causes flash flood...   \n",
       "7  13        fire      NaN  I'm on top of the hill and I can see a fire in...   \n",
       "8  14  evacuation      NaN  There's an emergency evacuation happening now ...   \n",
       "9  15     tornado      NaN  I'm afraid that the tornado is coming to our a...   \n",
       "\n",
       "   target  character_count       stem  \n",
       "0       1               69  earthquak  \n",
       "1       1               38  forestfir  \n",
       "2       1              133      evacu  \n",
       "3       1               65    wildfir  \n",
       "4       1               88    wildfir  \n",
       "5       1              110    wildfir  \n",
       "6       1               95      flood  \n",
       "7       1               59       fire  \n",
       "8       1               79      evacu  \n",
       "9       1               52    tornado  "
      ]
     },
     "execution_count": 83,
     "metadata": {},
     "output_type": "execute_result"
    }
   ],
   "source": [
    "train.head(10)"
   ]
  },
  {
   "cell_type": "code",
   "execution_count": 84,
   "id": "79632861",
   "metadata": {},
   "outputs": [
    {
     "data": {
      "text/plain": [
       "165"
      ]
     },
     "execution_count": 84,
     "metadata": {},
     "output_type": "execute_result"
    }
   ],
   "source": [
    "train['stem'].nunique()"
   ]
  },
  {
   "cell_type": "code",
   "execution_count": 85,
   "id": "1f77b197",
   "metadata": {},
   "outputs": [
    {
     "data": {
      "text/plain": [
       "ablaze        65\n",
       "fatalities    45\n",
       "armageddon    42\n",
       "deluge        42\n",
       "harm          41\n",
       "bodybags      41\n",
       "damage        41\n",
       "earthquake    40\n",
       "collided      40\n",
       "fear          40\n",
       "sinking       40\n",
       "siren         40\n",
       "evacuate      40\n",
       "outbreak      40\n",
       "windstorm     40\n",
       "explosion     39\n",
       "weapon        39\n",
       "weapons       39\n",
       "whirlwind     39\n",
       "collision     39\n",
       "Name: keyword, dtype: int64"
      ]
     },
     "execution_count": 85,
     "metadata": {},
     "output_type": "execute_result"
    }
   ],
   "source": [
    "#Show most commonly used keywords in training\n",
    "(train.keyword.value_counts()).head(20)"
   ]
  },
  {
   "cell_type": "markdown",
   "id": "0849e52b",
   "metadata": {},
   "source": [
    "Top 5 keywords used overall: (65) ablaze, (45) fatalities, (42) armageddon, deluge, (41) harm, bodybags, damage, (40) earthquake,collided, fear, sinking, siren,evacuate, outbreak, windstorm"
   ]
  },
  {
   "cell_type": "code",
   "execution_count": 86,
   "id": "5a4d905a",
   "metadata": {},
   "outputs": [
    {
     "data": {
      "text/plain": [
       "fatal          117\n",
       "evacu          111\n",
       "flood          111\n",
       "bodybag        107\n",
       "derail         106\n",
       "scream         105\n",
       "drown          104\n",
       "bomb           100\n",
       "hijack          98\n",
       "suicidebomb     97\n",
       "obliter         91\n",
       "weapon          78\n",
       "death           74\n",
       "collid          73\n",
       "blaze           72\n",
       "quarantin       71\n",
       "attack          71\n",
       "wound           70\n",
       "explod          70\n",
       "wreck           70\n",
       "Name: stem, dtype: int64"
      ]
     },
     "execution_count": 86,
     "metadata": {},
     "output_type": "execute_result"
    }
   ],
   "source": [
    "#Show most commly used stemmed keywords in training\n",
    "(train.stem.value_counts()).head(20)"
   ]
  },
  {
   "cell_type": "markdown",
   "id": "f0394c55",
   "metadata": {},
   "source": [
    "Top 5 stemmed-keywords used overall: (117) fatal, (111) evacu, flood, (107) bodybag, (106) derail, (105) scream"
   ]
  },
  {
   "cell_type": "code",
   "execution_count": 87,
   "id": "7358639d",
   "metadata": {},
   "outputs": [
    {
     "data": {
      "text/plain": [
       "deluged            23\n",
       "demolished         22\n",
       "rubble             22\n",
       "obliteration       21\n",
       "seismic            21\n",
       "snowstorm          21\n",
       "sirens             21\n",
       "annihilation       21\n",
       "firstresponders    21\n",
       "dead               20\n",
       "mayhem             20\n",
       "avalanche          20\n",
       "catastrophic       20\n",
       "survivors          20\n",
       "obliterate         19\n",
       "hostage            19\n",
       "devastated         19\n",
       "trauma             19\n",
       "wildfires          19\n",
       "obliterated        19\n",
       "terrorist          19\n",
       "suicidebomber      19\n",
       "crushed            19\n",
       "bioterrorism       19\n",
       "Name: keyword, dtype: int64"
      ]
     },
     "execution_count": 87,
     "metadata": {},
     "output_type": "execute_result"
    }
   ],
   "source": [
    "#Show most commonly used keywords in test\n",
    "(test.keyword.value_counts()).head(24)"
   ]
  },
  {
   "cell_type": "code",
   "execution_count": 88,
   "id": "0ff99d4a",
   "metadata": {},
   "outputs": [
    {
     "data": {
      "text/plain": [
       "keyword      target\n",
       "deaths       1         37\n",
       "blaze        0         37\n",
       "oilspill     1         36\n",
       "armageddon   0         36\n",
       "sinking      0         34\n",
       "panic        0         34\n",
       "harm         0         34\n",
       "ablaze       1         34\n",
       "evacuate     1         33\n",
       "crush        0         33\n",
       "suicidebomb  1         33\n",
       "pandemonium  0         33\n",
       "screaming    0         32\n",
       "injury       0         32\n",
       "blood        0         32\n",
       "blizzard     0         32\n",
       "bleeding     0         32\n",
       "siren        0         32\n",
       "sunk         0         32\n",
       "flames       0         32\n",
       "deluge       0         32\n",
       "blewup       0         31\n",
       "bodybagging  0         31\n",
       "earthquake   0         31\n",
       "blownup      0         31\n",
       "derailed     1         31\n",
       "screamed     0         31\n",
       "fatality     0         31\n",
       "fear         0         31\n",
       "ablaze       0         31\n",
       "dtype: int64"
      ]
     },
     "execution_count": 88,
     "metadata": {},
     "output_type": "execute_result"
    }
   ],
   "source": [
    "#Top 5 keywords associated with disaster and non-disasters\n",
    "train_1=train.loc[:, ['keyword', 'target']]\n",
    "train_keyword_per_target = train_1.groupby('keyword')\n",
    "train_keyword_per_target.value_counts().sort_values(ascending=False).head(30)"
   ]
  },
  {
   "cell_type": "code",
   "execution_count": null,
   "id": "a82c5a6c",
   "metadata": {},
   "outputs": [],
   "source": []
  },
  {
   "cell_type": "markdown",
   "id": "1c48600b",
   "metadata": {},
   "source": [
    "Top keywords associated with real disasters: (37) deaths, (36) oilspill, (34) ablaze, (33) evacuate, (33) suicidebomb,(31) derailed\n",
    "\n",
    "Top keywords associated with a non-disasters: (37) blaze, (36) armageddon, (34) sinking, (34) panic, (34) harm,(33) crush, pandemonium, (32)screaming, injury, blood, blizzard, bleeding, siren, sunk, flames, deluge       "
   ]
  },
  {
   "cell_type": "code",
   "execution_count": 89,
   "id": "ebede0ff",
   "metadata": {},
   "outputs": [
    {
     "data": {
      "text/plain": [
       "keyword            target\n",
       "blaze              0         97.368421\n",
       "deaths             1         97.368421\n",
       "oilspill           1         97.297297\n",
       "suicidebomb        1         97.058824\n",
       "suicidebomber      1         96.666667\n",
       "obliteration       1         96.551724\n",
       "rubble             0         96.428571\n",
       "bodybagging        0         93.939394\n",
       "blownup            0         93.939394\n",
       "derailed           1         93.939394\n",
       "blewup             0         93.939394\n",
       "trauma             0         93.548387\n",
       "panic              0         91.891892\n",
       "bleeding           0         91.428571\n",
       "blood              0         91.428571\n",
       "screamed           0         91.176471\n",
       "accident           0         90.909091\n",
       "blight             0         90.625000\n",
       "structuralfailure  1         90.322581\n",
       "mayhem             0         90.000000\n",
       "dtype: float64"
      ]
     },
     "execution_count": 89,
     "metadata": {},
     "output_type": "execute_result"
    }
   ],
   "source": [
    "##Show highest percentages of real and non-disasters for all keywords##\n",
    "\n",
    "(train_keyword_per_target.value_counts(normalize=True) * 100).sort_values(ascending=False).head(20)"
   ]
  },
  {
   "cell_type": "markdown",
   "id": "6c808f8b",
   "metadata": {},
   "source": [
    "Highest percentage of real disaster per usage: deaths, oilspill, suicidebomb, suicidebomber, obliteration\n",
    "\n",
    "Highest percentage of non-real disaster per usage:blaze, rubble, bodybagging, blownup, blewup"
   ]
  },
  {
   "cell_type": "code",
   "execution_count": 90,
   "id": "a5c21ff0",
   "metadata": {},
   "outputs": [
    {
     "data": {
      "text/plain": [
       "keyword      target\n",
       "ablaze       1         34\n",
       "             0         31\n",
       "deaths       1         37\n",
       "             0          1\n",
       "derailed     1         31\n",
       "             0          2\n",
       "evacuate     1         33\n",
       "             0          7\n",
       "oilspill     1         36\n",
       "             0          1\n",
       "suicidebomb  1         33\n",
       "             0          1\n",
       "dtype: int64"
      ]
     },
     "execution_count": 90,
     "metadata": {},
     "output_type": "execute_result"
    }
   ],
   "source": [
    "#Select only rows w/ top 5 keywords used in real disasters and sort by keyword. \n",
    "train_top5_keyword = train_1.loc[train_1['keyword'].isin(['deaths', 'oilspill', 'ablaze', 'evacuate', 'suicidebomb', 'derailed'])]\n",
    "train_top5_keyword_1 = train_top5_keyword.groupby('keyword')\n",
    "train_top5_keyword_1.value_counts().head(30)"
   ]
  },
  {
   "cell_type": "code",
   "execution_count": 91,
   "id": "4b505e15",
   "metadata": {},
   "outputs": [
    {
     "data": {
      "text/plain": [
       "keyword      target\n",
       "deaths       1         97.368421\n",
       "oilspill     1         97.297297\n",
       "suicidebomb  1         97.058824\n",
       "derailed     1         93.939394\n",
       "evacuate     1         82.500000\n",
       "ablaze       1         52.307692\n",
       "             0         47.692308\n",
       "evacuate     0         17.500000\n",
       "derailed     0          6.060606\n",
       "suicidebomb  0          2.941176\n",
       "oilspill     0          2.702703\n",
       "deaths       0          2.631579\n",
       "dtype: float64"
      ]
     },
     "execution_count": 91,
     "metadata": {},
     "output_type": "execute_result"
    }
   ],
   "source": [
    "#Top 5 most frequently used keywords in real disasters in percentages \n",
    "(train_top5_keyword_1.value_counts(normalize=True) * 100).sort_values(ascending=False).head(50)"
   ]
  },
  {
   "cell_type": "code",
   "execution_count": 92,
   "id": "a7920dd1",
   "metadata": {},
   "outputs": [
    {
     "data": {
      "text/plain": [
       "keyword      target\n",
       "armageddon   0         36\n",
       "             1          6\n",
       "blaze        0         37\n",
       "             1          1\n",
       "bleeding     0         32\n",
       "             1          3\n",
       "blizzard     0         32\n",
       "             1          5\n",
       "blood        0         32\n",
       "             1          3\n",
       "crush        0         33\n",
       "             1          4\n",
       "deluge       0         32\n",
       "             1         10\n",
       "flames       0         32\n",
       "             1          7\n",
       "harm         0         34\n",
       "             1          7\n",
       "injury       0         32\n",
       "             1          5\n",
       "pandemonium  0         33\n",
       "             1          4\n",
       "panic        0         34\n",
       "             1          3\n",
       "screaming    0         32\n",
       "             1          4\n",
       "sinking      0         34\n",
       "             1          6\n",
       "siren        0         32\n",
       "             1          8\n",
       "sunk         0         32\n",
       "             1          7\n",
       "dtype: int64"
      ]
     },
     "execution_count": 92,
     "metadata": {},
     "output_type": "execute_result"
    }
   ],
   "source": [
    "#Select only rows w/ top 5 keywords used in non-real disasters and sort by keyword.\n",
    "train_top5_keyword_non = train_1.loc[train_1['keyword'].isin(\n",
    "    ['blaze', 'armageddon', 'sinking', 'panic', 'harm','crush', 'pandemonium', \n",
    "    'screaming', 'injury', 'blood', 'blizzard', 'bleeding', 'siren', 'sunk', 'flames', 'deluge'])]\n",
    "train_top5_keyword_2 = train_top5_keyword_non.groupby('keyword')\n",
    "train_top5_keyword_2.value_counts().head(50)"
   ]
  },
  {
   "cell_type": "code",
   "execution_count": 93,
   "id": "2b051453",
   "metadata": {},
   "outputs": [
    {
     "data": {
      "text/plain": [
       "stem         target\n",
       "bodybag      0         88\n",
       "scream       0         84\n",
       "flood        1         82\n",
       "fatal        0         74\n",
       "bomb         1         73\n",
       "suicidebomb  1         72\n",
       "evacu        1         69\n",
       "derail       1         69\n",
       "blaze        0         67\n",
       "drown        0         60\n",
       "crush        0         59\n",
       "siren        0         58\n",
       "death        1         57\n",
       "destroy      0         56\n",
       "delug        0         56\n",
       "obliter      0         54\n",
       "injuri       0         53\n",
       "wreck        1         52\n",
       "desol        0         51\n",
       "collaps      0         51\n",
       "dtype: int64"
      ]
     },
     "execution_count": 93,
     "metadata": {},
     "output_type": "execute_result"
    }
   ],
   "source": [
    "#Top 5 stems most frequently associated with disaster and non-disasters\n",
    "train_2=train.loc[:, ['stem', 'target']]\n",
    "train_stem_per_target = train_2.groupby('stem')\n",
    "train_stem_per_target.value_counts().sort_values(ascending=False).head(20)"
   ]
  },
  {
   "cell_type": "markdown",
   "id": "bd1a3e09",
   "metadata": {},
   "source": [
    "Top 5 stems associated with disaster: (82) flood, (73) bomb, (72) suicidebomb, (69) derail, evacu, (57) death\n",
    "\n",
    "Top 5 stems associated with non-disaster: (88) bodybag, (84) scream, (74) fatal, (67) blaze, (60) drown"
   ]
  },
  {
   "cell_type": "code",
   "execution_count": 94,
   "id": "fae372f5",
   "metadata": {},
   "outputs": [
    {
     "data": {
      "text/plain": [
       "keyword            target\n",
       "blaze              0         97.368421\n",
       "deaths             1         97.368421\n",
       "oilspill           1         97.297297\n",
       "suicidebomb        1         97.058824\n",
       "suicidebomber      1         96.666667\n",
       "obliteration       1         96.551724\n",
       "rubble             0         96.428571\n",
       "bodybagging        0         93.939394\n",
       "blownup            0         93.939394\n",
       "derailed           1         93.939394\n",
       "blewup             0         93.939394\n",
       "trauma             0         93.548387\n",
       "panic              0         91.891892\n",
       "bleeding           0         91.428571\n",
       "blood              0         91.428571\n",
       "screamed           0         91.176471\n",
       "accident           0         90.909091\n",
       "blight             0         90.625000\n",
       "structuralfailure  1         90.322581\n",
       "mayhem             0         90.000000\n",
       "bombing            1         89.655172\n",
       "sirens             0         89.655172\n",
       "crush              0         89.189189\n",
       "pandemonium        0         89.189189\n",
       "screaming          0         88.888889\n",
       "deluged            0         88.888889\n",
       "blazing            0         88.235294\n",
       "wildfires          1         88.235294\n",
       "rainstorm          1         88.235294\n",
       "bodybag            0         87.878788\n",
       "apocalypse         0         87.500000\n",
       "obliterate         0         87.096774\n",
       "injury             0         86.486486\n",
       "blizzard           0         86.486486\n",
       "armageddon         0         85.714286\n",
       "bloody             0         85.714286\n",
       "traumatised        0         85.714286\n",
       "tsunami            0         85.294118\n",
       "naturaldisaster    1         85.294118\n",
       "sinking            0         85.000000\n",
       "forestfire         1         85.000000\n",
       "evacuated          1         84.848485\n",
       "landslide          0         84.848485\n",
       "hailstorm          0         84.375000\n",
       "destroyed          0         84.375000\n",
       "heatwave           0         84.000000\n",
       "crushed            0         83.870968\n",
       "obliterated        0         83.870968\n",
       "fatality           0         83.783784\n",
       "nuclearreactor     0         83.333333\n",
       "dtype: float64"
      ]
     },
     "execution_count": 94,
     "metadata": {},
     "output_type": "execute_result"
    }
   ],
   "source": [
    "#Show highest percentages of real and non-disasters for all keywords\n",
    "(train_keyword_per_target.value_counts(normalize=True) * 100).sort_values(ascending=False).head(50)\n"
   ]
  },
  {
   "cell_type": "code",
   "execution_count": 95,
   "id": "652045d1",
   "metadata": {},
   "outputs": [
    {
     "data": {
      "text/plain": [
       "stem              target\n",
       "oilspil           1         97.297297\n",
       "rubbl             0         96.428571\n",
       "blownup           0         93.939394\n",
       "blewup            0         93.939394\n",
       "trauma            0         93.548387\n",
       "blaze             0         93.055556\n",
       "panic             0         91.891892\n",
       "blood             0         91.428571\n",
       "bleed             0         91.428571\n",
       "accid             0         90.909091\n",
       "blight            0         90.625000\n",
       "structuralfailur  1         90.322581\n",
       "mayhem            0         90.000000\n",
       "pandemonium       0         89.189189\n",
       "rainstorm         1         88.235294\n",
       "apocalyps         0         87.500000\n",
       "crush             0         86.764706\n",
       "blizzard          0         86.486486\n",
       "bloodi            0         85.714286\n",
       "armageddon        0         85.714286\n",
       "traumatis         0         85.714286\n",
       "naturaldisast     1         85.294118\n",
       "tsunami           0         85.294118\n",
       "sink              0         85.000000\n",
       "landslid          0         84.848485\n",
       "hailstorm         0         84.375000\n",
       "siren             0         84.057971\n",
       "heatwav           0         84.000000\n",
       "nuclearreactor    0         83.333333\n",
       "harm              0         82.926829\n",
       "storm             0         82.857143\n",
       "drought           0         82.857143\n",
       "bodybag           0         82.242991\n",
       "flame             0         82.051282\n",
       "sunk              0         82.051282\n",
       "destroy           0         81.159420\n",
       "delug             0         81.159420\n",
       "sandstorm         0         81.081081\n",
       "terrorist         0         80.645161\n",
       "scream            0         80.000000\n",
       "bushfir           1         80.000000\n",
       "buildingsburn     1         79.411765\n",
       "injuri            0         79.104478\n",
       "aftershock        1         78.787879\n",
       "desol             0         78.461538\n",
       "polic             0         78.378378\n",
       "displac           1         77.777778\n",
       "massacr           0         77.777778\n",
       "danger            0         77.777778\n",
       "fear              0         77.500000\n",
       "dtype: float64"
      ]
     },
     "execution_count": 95,
     "metadata": {},
     "output_type": "execute_result"
    }
   ],
   "source": [
    "#Show highest percentages of real and non-disasters for all stems\n",
    "(train_stem_per_target.value_counts(normalize=True) * 100).sort_values(ascending=False).head(50)"
   ]
  },
  {
   "cell_type": "markdown",
   "id": "6cd10a55",
   "metadata": {},
   "source": [
    "Highest percentage of real disaster per usage: oilspil, structuralfailur,rainstorm, naturaldisast, bushfir\n",
    "\n",
    "Highest percentage of non-real disaster per usage: rubbl,blownup, blewup, trauma, blaze"
   ]
  },
  {
   "cell_type": "code",
   "execution_count": 96,
   "id": "70371716",
   "metadata": {},
   "outputs": [
    {
     "data": {
      "text/plain": [
       "stem              target\n",
       "blaze             0         67\n",
       "                  1          5\n",
       "blewup            0         31\n",
       "                  1          2\n",
       "blownup           0         31\n",
       "                  1          2\n",
       "bushfir           1         20\n",
       "                  0          5\n",
       "naturaldisast     1         29\n",
       "                  0          5\n",
       "oilspil           1         36\n",
       "                  0          1\n",
       "rainstorm         1         30\n",
       "                  0          4\n",
       "rubbl             0         27\n",
       "                  1          1\n",
       "structuralfailur  1         28\n",
       "                  0          3\n",
       "trauma            0         29\n",
       "                  1          2\n",
       "dtype: int64"
      ]
     },
     "execution_count": 96,
     "metadata": {},
     "output_type": "execute_result"
    }
   ],
   "source": [
    "#Show counts for highest percentage of real and non-disasters in stems (of cell above)\n",
    "train_highest_perct= train_2.loc[train_2['stem'].isin(['oilspil', 'structuralfailur', 'rainstorm', 'naturaldisast','bushfir','rubbl','blownup','blewup','trauma','blaze'])]\n",
    "train_highest_perct2 = train_highest_perct.groupby('stem')\n",
    "train_highest_perct2.value_counts()"
   ]
  },
  {
   "cell_type": "code",
   "execution_count": 97,
   "id": "74d9c9c9",
   "metadata": {},
   "outputs": [
    {
     "data": {
      "text/plain": [
       "stem         target\n",
       "bomb         1         73\n",
       "             0         27\n",
       "death        1         57\n",
       "             0         17\n",
       "derail       1         69\n",
       "             0         37\n",
       "evacu        1         69\n",
       "             0         42\n",
       "flood        1         82\n",
       "             0         29\n",
       "suicidebomb  1         72\n",
       "             0         25\n",
       "dtype: int64"
      ]
     },
     "execution_count": 97,
     "metadata": {},
     "output_type": "execute_result"
    }
   ],
   "source": [
    "#Select top 5 stems used most frequently in real disasters and show percentage \n",
    "train_top5_stem = train_2.loc[train_2['stem'].isin(['flood','bomb', 'suicidebomb', 'derail', 'evacu','death'])]\n",
    "train_top5_stem_1 = train_top5_stem.groupby('stem')\n",
    "train_top5_stem_1.value_counts().head(30)"
   ]
  },
  {
   "cell_type": "code",
   "execution_count": 98,
   "id": "9ba87507",
   "metadata": {},
   "outputs": [
    {
     "data": {
      "text/plain": [
       "stem         target\n",
       "death        1         77.027027\n",
       "suicidebomb  1         74.226804\n",
       "flood        1         73.873874\n",
       "bomb         1         73.000000\n",
       "derail       1         65.094340\n",
       "evacu        1         62.162162\n",
       "             0         37.837838\n",
       "derail       0         34.905660\n",
       "bomb         0         27.000000\n",
       "flood        0         26.126126\n",
       "suicidebomb  0         25.773196\n",
       "death        0         22.972973\n",
       "dtype: float64"
      ]
     },
     "execution_count": 98,
     "metadata": {},
     "output_type": "execute_result"
    }
   ],
   "source": [
    "#Top 5 most frequently used stems in real disaster in percentage \n",
    "(train_top5_stem_1.value_counts(normalize=True) * 100).sort_values(ascending=False).head(50)"
   ]
  },
  {
   "cell_type": "code",
   "execution_count": 99,
   "id": "32c412f1",
   "metadata": {},
   "outputs": [
    {
     "data": {
      "text/plain": [
       "stem     target\n",
       "blaze    0         67\n",
       "         1          5\n",
       "bodybag  0         88\n",
       "         1         19\n",
       "drown    0         60\n",
       "         1         44\n",
       "fatal    0         74\n",
       "         1         43\n",
       "scream   0         84\n",
       "         1         21\n",
       "dtype: int64"
      ]
     },
     "execution_count": 99,
     "metadata": {},
     "output_type": "execute_result"
    }
   ],
   "source": [
    "#Select top 5 stems used most frequently in non-disasters\n",
    "train_top5_stem_non = train_2.loc[train_2['stem'].isin(['bodybag', 'scream', 'fatal', 'blaze', 'drown'])]\n",
    "train_top5_stem_2 = train_top5_stem_non.groupby('stem')\n",
    "train_top5_stem_2.value_counts().head(30)"
   ]
  },
  {
   "cell_type": "code",
   "execution_count": 100,
   "id": "6286ea60",
   "metadata": {},
   "outputs": [
    {
     "data": {
      "text/plain": [
       "stem     target\n",
       "blaze    0         93.055556\n",
       "bodybag  0         82.242991\n",
       "scream   0         80.000000\n",
       "fatal    0         63.247863\n",
       "drown    0         57.692308\n",
       "         1         42.307692\n",
       "fatal    1         36.752137\n",
       "scream   1         20.000000\n",
       "bodybag  1         17.757009\n",
       "blaze    1          6.944444\n",
       "dtype: float64"
      ]
     },
     "execution_count": 100,
     "metadata": {},
     "output_type": "execute_result"
    }
   ],
   "source": [
    "#Top 5 most frequently used stems in non-real disasters in percentages\n",
    "(train_top5_stem_2.value_counts(normalize=True) * 100).sort_values(ascending=False).head(50)"
   ]
  },
  {
   "cell_type": "code",
   "execution_count": 101,
   "id": "13621200",
   "metadata": {},
   "outputs": [
    {
     "data": {
      "text/plain": [
       "0    4289\n",
       "1    3198\n",
       "Name: target, dtype: int64"
      ]
     },
     "execution_count": 101,
     "metadata": {},
     "output_type": "execute_result"
    }
   ],
   "source": [
    "train.target.value_counts()"
   ]
  },
  {
   "cell_type": "code",
   "execution_count": 102,
   "id": "aba9dd16",
   "metadata": {},
   "outputs": [
    {
     "data": {
      "text/plain": [
       "stem         target\n",
       "bodybag      0         88\n",
       "             1         19\n",
       "bomb         1         73\n",
       "             0         27\n",
       "derail       1         69\n",
       "             0         37\n",
       "drown        0         60\n",
       "             1         44\n",
       "evacu        1         69\n",
       "             0         42\n",
       "fatal        0         74\n",
       "             1         43\n",
       "flood        1         82\n",
       "             0         29\n",
       "hijack       0         50\n",
       "             1         48\n",
       "obliter      0         54\n",
       "             1         37\n",
       "scream       0         84\n",
       "             1         21\n",
       "suicidebomb  1         72\n",
       "             0         25\n",
       "dtype: int64"
      ]
     },
     "execution_count": 102,
     "metadata": {},
     "output_type": "execute_result"
    }
   ],
   "source": [
    "#Show the frequency of real disasters and non-disasters for the most frequently used stems overall\n",
    "train_mostfreq_stem = train_2.loc[train_2['stem'].isin(['fatal', 'evacu', 'flood', 'bodybag', 'derail', 'scream','drown','bomb', 'hijack', 'suicidebomb','obliter'])]\n",
    "train_mostfreq_stem_1= train_mostfreq_stem.groupby('stem')\n",
    "train_mostfreq_stem_1.value_counts().head(30)\n"
   ]
  },
  {
   "cell_type": "code",
   "execution_count": 103,
   "id": "c8cc8f15",
   "metadata": {},
   "outputs": [
    {
     "data": {
      "text/plain": [
       "stem         target\n",
       "bodybag      0         82.242991\n",
       "             1         17.757009\n",
       "bomb         1         73.000000\n",
       "             0         27.000000\n",
       "derail       1         65.094340\n",
       "             0         34.905660\n",
       "drown        0         57.692308\n",
       "             1         42.307692\n",
       "evacu        1         62.162162\n",
       "             0         37.837838\n",
       "fatal        0         63.247863\n",
       "             1         36.752137\n",
       "flood        1         73.873874\n",
       "             0         26.126126\n",
       "hijack       0         51.020408\n",
       "             1         48.979592\n",
       "obliter      0         59.340659\n",
       "             1         40.659341\n",
       "scream       0         80.000000\n",
       "             1         20.000000\n",
       "suicidebomb  1         74.226804\n",
       "             0         25.773196\n",
       "dtype: float64"
      ]
     },
     "execution_count": 103,
     "metadata": {},
     "output_type": "execute_result"
    }
   ],
   "source": [
    "#Show the percentage of real disasters and non-disasters for the most frequently used stems overall\n",
    "(train_mostfreq_stem_1.value_counts(normalize=True) * 100).head(50)"
   ]
  },
  {
   "cell_type": "code",
   "execution_count": 104,
   "id": "e39ad332",
   "metadata": {},
   "outputs": [],
   "source": [
    "import stylecloud"
   ]
  },
  {
   "cell_type": "code",
   "execution_count": 105,
   "id": "63794270",
   "metadata": {},
   "outputs": [],
   "source": [
    "train['keyword'].to_csv('keyword.csv', header=False, index=False)\n",
    "stylecloud.gen_stylecloud(file_path='keyword.csv',\n",
    "                         icon_name=\"fab fa-twitter\")"
   ]
  },
  {
   "cell_type": "code",
   "execution_count": 106,
   "id": "74bffbea",
   "metadata": {},
   "outputs": [],
   "source": [
    "train['stem'].to_csv('stem.csv', header=False, index=False)\n",
    "stylecloud.gen_stylecloud(file_path='stem.csv',\n",
    "                         icon_name=\"fab fa-twitter\")"
   ]
  },
  {
   "cell_type": "code",
   "execution_count": 107,
   "id": "2ca80017",
   "metadata": {},
   "outputs": [],
   "source": [
    "test['keyword'].to_csv('test_keyword.csv', header=False, index=False)\n",
    "stylecloud.gen_stylecloud(file_path='test_keyword.csv',\n",
    "                         icon_name=\"fab fa-twitter\")"
   ]
  }
 ],
 "metadata": {
  "kernelspec": {
   "display_name": "Python 3 (ipykernel)",
   "language": "python",
   "name": "python3"
  },
  "language_info": {
   "codemirror_mode": {
    "name": "ipython",
    "version": 3
   },
   "file_extension": ".py",
   "mimetype": "text/x-python",
   "name": "python",
   "nbconvert_exporter": "python",
   "pygments_lexer": "ipython3",
   "version": "3.10.4"
  }
 },
 "nbformat": 4,
 "nbformat_minor": 5
}
